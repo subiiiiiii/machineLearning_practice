{
 "cells": [
  {
   "cell_type": "code",
   "execution_count": null,
   "metadata": {},
   "outputs": [],
   "source": [
    "# Data Preprocessing for OCR\n",
    "\n",
    "#This notebook preprocesses the raw data images and saves them in the processed format.\n",
    "\n",
    "## Import Libraries\n",
    "\n",
    "\n",
    "import os\n",
    "import cv2\n",
    "import numpy as np\n",
    "\n",
    "# Directories\n",
    "raw_data_dir = '../data/raw/'\n",
    "processed_data_dir = '../data/processed/'\n",
    "\n",
    "# Ensure the processed data directory exists\n",
    "if not os.path.exists(processed_data_dir):\n",
    "    os.makedirs(processed_data_dir)\n"
   ]
  },
  {
   "cell_type": "code",
   "execution_count": null,
   "metadata": {},
   "outputs": [],
   "source": [
    "def preprocess_image(image_path):\n",
    "    img = cv2.imread(image_path, cv2.IMREAD_GRAYSCALE)\n",
    "    if img is None:\n",
    "        raise ValueError(f\"Failed to load image: {image_path}\")\n",
    "    img = cv2.resize(img, (128, 32))  # Resize to match model input\n",
    "    img = img / 255.0  # Normalize\n",
    "    return img\n",
    "\n",
    "def process_and_save_images():\n",
    "    for filename in os.listdir(raw_data_dir):\n",
    "        if filename.endswith('.jpg') or filename.endswith('.png'):\n",
    "            image_path = os.path.join(raw_data_dir, filename)\n",
    "            try:\n",
    "                img = preprocess_image(image_path)\n",
    "                np.save(os.path.join(processed_data_dir, os.path.splitext(filename)[0] + '.npy'), img)\n",
    "                print(f'Processed and saved: {filename}')\n",
    "            except ValueError as e:\n",
    "                print(e)\n",
    "\n",
    "# Process and save images\n",
    "process_and_save_images()\n"
   ]
  },
  {
   "cell_type": "code",
   "execution_count": null,
   "metadata": {},
   "outputs": [],
   "source": [
    "# Load and verify a processed image\n",
    "sample_image = np.load(os.path.join(processed_data_dir, os.listdir(processed_data_dir)[0]))\n",
    "print(f'Sample image shape: {sample_image.shape}')\n",
    "print(f'Sample image data:\\n{sample_image}')\n"
   ]
  }
 ],
 "metadata": {
  "kernelspec": {
   "display_name": "Python 3 (ipykernel)",
   "language": "python",
   "name": "python3"
  },
  "language_info": {
   "codemirror_mode": {
    "name": "ipython",
    "version": 3
   },
   "file_extension": ".py",
   "mimetype": "text/x-python",
   "name": "python",
   "nbconvert_exporter": "python",
   "pygments_lexer": "ipython3",
   "version": "3.12.3"
  }
 },
 "nbformat": 4,
 "nbformat_minor": 4
}
