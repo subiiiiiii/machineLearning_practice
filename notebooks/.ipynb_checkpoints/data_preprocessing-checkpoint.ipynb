{
 "cells": [
  {
   "cell_type": "code",
   "execution_count": null,
   "metadata": {},
   "outputs": [],
   "source": [
    "# data_preprocessing.ipynb\n",
    "import cv2\n",
    "import os\n",
    "import numpy as np\n",
    "\n",
    "def preprocess_image(image_path):\n",
    "    # Load image\n",
    "    img = cv2.imread(image_path, cv2.IMREAD_GRAYSCALE)\n",
    "    # Resize image\n",
    "    img = cv2.resize(img, (128, 32))\n",
    "    # Normalize image\n",
    "    img = img / 255.0\n",
    "    return img\n",
    "\n",
    "# Save processed images\n",
    "input_dir = 'data/raw/'\n",
    "output_dir = 'data/processed/'\n",
    "for filename in os.listdir(input_dir):\n",
    "    if filename.endswith('.jpg') or filename.endswith('.jpeg'):\n",
    "        img = preprocess_image(os.path.join(input_dir, filename))\n",
    "        np.save(os.path.join(output_dir, filename.split('.')[0] + '.npy'), img)\n"
   ]
  }
 ],
 "metadata": {
  "language_info": {
   "name": "python"
  }
 },
 "nbformat": 4,
 "nbformat_minor": 2
}
